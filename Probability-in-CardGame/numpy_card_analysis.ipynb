{
 "cells": [
  {
   "cell_type": "code",
   "execution_count": 1,
   "metadata": {},
   "outputs": [],
   "source": [
    "import numpy as np"
   ]
  },
  {
   "cell_type": "code",
   "execution_count": 9,
   "metadata": {},
   "outputs": [],
   "source": [
    "np.random.seed(0)\n",
    "total_cards = 52"
   ]
  },
  {
   "cell_type": "code",
   "execution_count": 3,
   "metadata": {},
   "outputs": [],
   "source": [
    "def get_matching_event(event_condition: callable, sample_space):\n",
    "    return set([outcome for outcome in sample_space if event_condition(outcome)])\n",
    "\n",
    "def compute_event_probability(event_condition, generic_sample_space):\n",
    "    event = get_matching_event(event_condition, generic_sample_space)\n",
    "    if type(generic_sample_space) == type(set()):\n",
    "        return len(event) / len(generic_sample_space)\n",
    "    event_size = sum(generic_sample_space[outcome] for outcome in event)\n",
    "    return event_size / sum(generic_sample_space.values())\n",
    "\n",
    "def compute_high_confidence_interval(likelihoods, bin_edges):\n",
    "    peak_index = likelihoods.argmax()\n",
    "    bin_width = bin_edges[1] - bin_edges[0]\n",
    "    area = likelihoods[peak_index] * bin_width\n",
    "    start_index, end_index = peak_index, peak_index + 1\n",
    "    while area < 0.95:\n",
    "        if start_index > 0:\n",
    "            start_index -= 1\n",
    "        if end_index < likelihoods.size - 1:\n",
    "            end_index += 1 \n",
    "        area = likelihoods[start_index: end_index + 1].sum() * bin_width\n",
    "\n",
    "    range_start, range_end = bin_edges[start_index], bin_edges[end_index]\n",
    "    range_string = f\"{range_start: .6f} - {range_end: .6f}\"\n",
    "    print(f\"The frequency range {range_string} represents a \",\n",
    "          f\"{100 * area: .2f}% confidence interval\")\n",
    "    return start_index, end_index"
   ]
  },
  {
   "cell_type": "code",
   "execution_count": 4,
   "metadata": {},
   "outputs": [],
   "source": [
    "red_card_count = np.random.randint(0, total_cards + 1)\n",
    "black_card_count = total_cards - red_card_count\n",
    "\n",
    "weighted_sample_space = {\"red_card\": red_card_count, \n",
    "                         \"black_card\": black_card_count}\n",
    "\n",
    "prob_red = compute_event_probability(lambda x: x ==\"red_card\", weighted_sample_space)\n"
   ]
  },
  {
   "cell_type": "code",
   "execution_count": null,
   "metadata": {},
   "outputs": [],
   "source": [
    "color = \"red\" if np.random.binomial(1, prob_red) else \"black\"\n",
    "print(f\"The first card in the shuffled deck is {color}\")\n",
    "\n",
    "red_count = np.random.binomial(10, prob_red)\n",
    "print(f\"In {red_count} of 10 shuffles, a red card came up first\")"
   ]
  },
  {
   "cell_type": "code",
   "execution_count": null,
   "metadata": {},
   "outputs": [],
   "source": [
    "red_card_count_array = np.random.binomial(50000, prob_red, 100000)\n",
    "frequency_array = red_card_count_array / 50000\n",
    "\n",
    "likelihoods, bin_edges = np.histogram(frequency_array, bins='auto', density=True)\n",
    "bin_width = bin_edges[1] - bin_edges[0]\n",
    "start_index, end_index = compute_high_confidence_interval(likelihoods, bin_edges)"
   ]
  },
  {
   "cell_type": "code",
   "execution_count": null,
   "metadata": {},
   "outputs": [],
   "source": [
    "range_start = round(0.842771 * total_cards)\n",
    "range_end = round(0.849139 * total_cards)\n",
    "print(f\"The number of red cards in the deck is between {range_start} and {range_end}\")"
   ]
  },
  {
   "cell_type": "code",
   "execution_count": null,
   "metadata": {},
   "outputs": [],
   "source": [
    "# 模拟洗牌，红牌用1表示，黑牌用0表示\n",
    "card_deck = [1, 1, 0, 0]\n",
    "np.random.shuffle(card_deck)\n",
    "print(card_deck)"
   ]
  },
  {
   "cell_type": "code",
   "execution_count": null,
   "metadata": {},
   "outputs": [],
   "source": [
    "# np.random.permutation 不会打乱原有的排序\n",
    "unshuffled_deck = [1, 1, 0, 0]\n",
    "shuffled_deck = np.random.permutation(unshuffled_deck)\n",
    "assert unshuffled_deck == [1, 1, 0, 0]\n",
    "print(shuffled_deck)"
   ]
  },
  {
   "cell_type": "code",
   "execution_count": null,
   "metadata": {},
   "outputs": [],
   "source": [
    "import itertools\n",
    "for permutation in list(itertools.permutations([0, 1, 2, 3]))[:3]:\n",
    "    print(permutation)"
   ]
  },
  {
   "cell_type": "code",
   "execution_count": null,
   "metadata": {},
   "outputs": [],
   "source": [
    "from collections import defaultdict\n",
    "weighted_sample_space = defaultdict(int)\n",
    "for permutation in itertools.permutations(unshuffled_deck):\n",
    "    weighted_sample_space[permutation] += 1\n",
    "\n",
    "for permutation, count in weighted_sample_space.items():\n",
    "    print(f\"Permutation {permutation} occurs {count} times\")"
   ]
  },
  {
   "cell_type": "code",
   "execution_count": 16,
   "metadata": {},
   "outputs": [
    {
     "name": "stdout",
     "output_type": "stream",
     "text": [
      "Probability that a shuffle does not alter the deck is 0.16666666666666666\n"
     ]
    }
   ],
   "source": [
    "sample_space = set(itertools.permutations(unshuffled_deck))\n",
    "event_condition = lambda x: list(x) == unshuffled_deck\n",
    "prob = compute_event_probability(event_condition, sample_space)\n",
    "print(f\"Probability that a shuffle does not alter the deck is {prob}\")"
   ]
  },
  {
   "cell_type": "code",
   "execution_count": 17,
   "metadata": {},
   "outputs": [
    {
     "name": "stdout",
     "output_type": "stream",
     "text": [
      "Sample space for a 10-card deck contains 252 elements\n"
     ]
    }
   ],
   "source": [
    "red_cards = 5 * [1]\n",
    "black_cards = 5 * [0]\n",
    "unshuffled_deck = red_cards + black_cards\n",
    "sample_space = set(itertools.permutations(unshuffled_deck))\n",
    "print(f\"Sample space for a 10-card deck contains {len(sample_space)} elements\")"
   ]
  }
 ],
 "metadata": {
  "kernelspec": {
   "display_name": ".venv",
   "language": "python",
   "name": "python3"
  },
  "language_info": {
   "codemirror_mode": {
    "name": "ipython",
    "version": 3
   },
   "file_extension": ".py",
   "mimetype": "text/x-python",
   "name": "python",
   "nbconvert_exporter": "python",
   "pygments_lexer": "ipython3",
   "version": "3.9.13"
  }
 },
 "nbformat": 4,
 "nbformat_minor": 2
}
