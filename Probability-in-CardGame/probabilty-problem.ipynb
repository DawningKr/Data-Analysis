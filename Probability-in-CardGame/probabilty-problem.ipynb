{
 "cells": [
  {
   "cell_type": "code",
   "execution_count": null,
   "metadata": {},
   "outputs": [],
   "source": [
    "def get_matching_event(event_condition: callable, sample_space):\n",
    "    return set([outcome for outcome in sample_space if event_condition(outcome)])"
   ]
  },
  {
   "cell_type": "code",
   "execution_count": null,
   "metadata": {},
   "outputs": [],
   "source": [
    "def compute_event_probability(event_condition, generic_sample_space):\n",
    "    event = get_matching_event(event_condition, generic_sample_space)\n",
    "    if type(generic_sample_space) == type(set()):\n",
    "        return len(event) / len(generic_sample_space)\n",
    "    event_size = sum(generic_sample_space[outcome] for outcome in event)\n",
    "    return event_size / sum(generic_sample_space.values())"
   ]
  },
  {
   "cell_type": "code",
   "execution_count": null,
   "metadata": {},
   "outputs": [],
   "source": [
    "def is_heads_or_tails(outcome):\n",
    "    return outcome in {\"Heads\", \"Tails\"}\n",
    "\n",
    "def is_neither(outcome):\n",
    "    return not is_heads_or_tails(outcome)\n",
    "\n",
    "def is_heads(outcome):\n",
    "    return outcome == \"Heads\"\n",
    "\n",
    "def is_tails(outcome):\n",
    "    return outcome == \"Tails\"\n",
    "\n",
    "sample_space = {\"Heads\", \"Tails\"}\n",
    "weight_sample_space = {\"Heads\": 4, \n",
    "                       \"Tails\": 1}\n",
    "event_conditions = [is_heads_or_tails, is_heads, is_tails, is_neither]\n",
    "\n",
    "for event_condition in event_conditions:\n",
    "    print(f\"Event Condition: {event_condition.__name__}\")\n",
    "    event = get_matching_event(event_condition, weight_sample_space)\n",
    "    print(f\"Event: {event if len(event) != 0 else None}\")\n",
    "    prob = compute_event_probability(event_condition, weight_sample_space)\n",
    "    print(f\"Probability: {prob}\\n\")"
   ]
  },
  {
   "cell_type": "code",
   "execution_count": null,
   "metadata": {},
   "outputs": [],
   "source": [
    "from itertools import product\n",
    "\n",
    "def has_two_boys(outcome):\n",
    "    return len([child for child in outcome if child == \"Boy\"]) == 2\n",
    "\n",
    "possible_children = [\"Boy\", \"Girl\"]\n",
    "sample_space = set(product(possible_children, repeat=4))\n",
    "prob = compute_event_probability(has_two_boys, sample_space)\n",
    "print(f\"Probability of 2 boys is {prob}\")"
   ]
  },
  {
   "cell_type": "code",
   "execution_count": null,
   "metadata": {},
   "outputs": [],
   "source": [
    "possible_roll = list(range(1, 7))\n",
    "\n",
    "sample_space = set(product(possible_roll, repeat=6))\n",
    "\n",
    "def has_sum_of_21(outcome):\n",
    "    return sum(outcome) == 21\n",
    "\n",
    "prob = compute_event_probability(has_sum_of_21, sample_space)\n",
    "print(f\"6 rolls sum to 21 with a probability of {prob}\")"
   ]
  },
  {
   "cell_type": "code",
   "execution_count": null,
   "metadata": {},
   "outputs": [],
   "source": [
    "from collections import defaultdict\n",
    "weight_sample_space = defaultdict(int)\n",
    "for outcome in sample_space:\n",
    "    total = sum(outcome)\n",
    "    weight_sample_space[total] += 1"
   ]
  },
  {
   "cell_type": "code",
   "execution_count": 13,
   "metadata": {},
   "outputs": [
    {
     "name": "stdout",
     "output_type": "stream",
     "text": [
      "Probability of interval is 0.5446244855967078\n"
     ]
    }
   ],
   "source": [
    "def is_in_interval(number, minimum, maximum):\n",
    "    return minimum <= number <= maximum\n",
    "\n",
    "prob = compute_event_probability(lambda x: is_in_interval(x, 10, 21), weight_sample_space)\n",
    "print(f\"Probability of interval is {prob}\")"
   ]
  },
  {
   "cell_type": "code",
   "execution_count": 14,
   "metadata": {},
   "outputs": [
    {
     "name": "stdout",
     "output_type": "stream",
     "text": [
      "Probability of observing more than 7 heads is 0.0546875\n"
     ]
    }
   ],
   "source": [
    "from collections import defaultdict\n",
    "\n",
    "def generate_coin_sample(num_flips=10):\n",
    "    weight_sample_space = defaultdict(int)\n",
    "    for coin_flips in product([\"Tails\", \"Heads\"], repeat=num_flips):\n",
    "        heads_count = len([outcome for outcome in coin_flips if outcome == 'Heads'])\n",
    "        weight_sample_space[heads_count] += 1\n",
    "\n",
    "    return weight_sample_space\n",
    "\n",
    "weight_sample_space = generate_coin_sample()\n",
    "\n",
    "prob = compute_event_probability(lambda x: is_in_interval(x, 8, 10), weight_sample_space)\n",
    "print(f\"Probability of observing more than 7 heads is {prob}\")"
   ]
  }
 ],
 "metadata": {
  "kernelspec": {
   "display_name": ".venv",
   "language": "python",
   "name": "python3"
  },
  "language_info": {
   "codemirror_mode": {
    "name": "ipython",
    "version": 3
   },
   "file_extension": ".py",
   "mimetype": "text/x-python",
   "name": "python",
   "nbconvert_exporter": "python",
   "pygments_lexer": "ipython3",
   "version": "3.9.13"
  }
 },
 "nbformat": 4,
 "nbformat_minor": 2
}
